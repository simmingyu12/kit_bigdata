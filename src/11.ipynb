{
 "cells": [
  {
   "cell_type": "markdown",
   "id": "bf715df4",
   "metadata": {},
   "source": [
    "# 11 지도 시각화\n",
    "\n",
    "## 11-1 시군구별 인구 단계 구분도 만들기\n",
    "\n",
    "### 시군구별 인구 단계 구분도 만들기\n",
    "\n",
    "#### 1. 시군구 경계 지도 데이터 준비하기"
   ]
  },
  {
   "cell_type": "code",
   "execution_count": 1,
   "id": "63200adb",
   "metadata": {
    "eval": false
   },
   "outputs": [],
   "source": [
    "import json\n",
    "geo = json.load(open('SIG.geojson', encoding = 'UTF-8'))"
   ]
  },
  {
   "cell_type": "code",
   "execution_count": 2,
   "id": "05059ec9",
   "metadata": {},
   "outputs": [
    {
     "data": {
      "text/plain": [
       "{'SIG_CD': '42110', 'SIG_ENG_NM': 'Chuncheon-si', 'SIG_KOR_NM': '춘천시'}"
      ]
     },
     "execution_count": 2,
     "metadata": {},
     "output_type": "execute_result"
    }
   ],
   "source": [
    "# 행정 구역 코드 출력 \n",
    "geo['features'][0]['properties']"
   ]
  },
  {
   "cell_type": "code",
   "execution_count": 3,
   "id": "a107819e",
   "metadata": {
    "eval": false
   },
   "outputs": [],
   "source": [
    "# 위도, 경도 좌표 출력\n",
    "# geo['features'][0]['geometry']"
   ]
  },
  {
   "cell_type": "markdown",
   "id": "2773af4a",
   "metadata": {},
   "source": [
    "#### 2. 시군구별 인구 데이터 준비하기"
   ]
  },
  {
   "cell_type": "code",
   "execution_count": 4,
   "id": "131aa078",
   "metadata": {
    "eval": false
   },
   "outputs": [
    {
     "data": {
      "text/html": [
       "<div>\n",
       "<style scoped>\n",
       "    .dataframe tbody tr th:only-of-type {\n",
       "        vertical-align: middle;\n",
       "    }\n",
       "\n",
       "    .dataframe tbody tr th {\n",
       "        vertical-align: top;\n",
       "    }\n",
       "\n",
       "    .dataframe thead th {\n",
       "        text-align: right;\n",
       "    }\n",
       "</style>\n",
       "<table border=\"1\" class=\"dataframe\">\n",
       "  <thead>\n",
       "    <tr style=\"text-align: right;\">\n",
       "      <th></th>\n",
       "      <th>code</th>\n",
       "      <th>region</th>\n",
       "      <th>pop</th>\n",
       "    </tr>\n",
       "  </thead>\n",
       "  <tbody>\n",
       "    <tr>\n",
       "      <th>0</th>\n",
       "      <td>11</td>\n",
       "      <td>서울특별시</td>\n",
       "      <td>9509458</td>\n",
       "    </tr>\n",
       "    <tr>\n",
       "      <th>1</th>\n",
       "      <td>11110</td>\n",
       "      <td>종로구</td>\n",
       "      <td>144683</td>\n",
       "    </tr>\n",
       "    <tr>\n",
       "      <th>2</th>\n",
       "      <td>11140</td>\n",
       "      <td>중구</td>\n",
       "      <td>122499</td>\n",
       "    </tr>\n",
       "    <tr>\n",
       "      <th>3</th>\n",
       "      <td>11170</td>\n",
       "      <td>용산구</td>\n",
       "      <td>222953</td>\n",
       "    </tr>\n",
       "    <tr>\n",
       "      <th>4</th>\n",
       "      <td>11200</td>\n",
       "      <td>성동구</td>\n",
       "      <td>285990</td>\n",
       "    </tr>\n",
       "  </tbody>\n",
       "</table>\n",
       "</div>"
      ],
      "text/plain": [
       "    code region      pop\n",
       "0     11  서울특별시  9509458\n",
       "1  11110    종로구   144683\n",
       "2  11140     중구   122499\n",
       "3  11170    용산구   222953\n",
       "4  11200    성동구   285990"
      ]
     },
     "execution_count": 4,
     "metadata": {},
     "output_type": "execute_result"
    }
   ],
   "source": [
    "import pandas as pd\n",
    "df_pop = pd.read_csv('Population_SIG.csv')\n",
    "df_pop.head()"
   ]
  },
  {
   "cell_type": "code",
   "execution_count": 5,
   "id": "ab2f2986",
   "metadata": {},
   "outputs": [
    {
     "name": "stdout",
     "output_type": "stream",
     "text": [
      "<class 'pandas.core.frame.DataFrame'>\n",
      "RangeIndex: 278 entries, 0 to 277\n",
      "Data columns (total 3 columns):\n",
      " #   Column  Non-Null Count  Dtype \n",
      "---  ------  --------------  ----- \n",
      " 0   code    278 non-null    int64 \n",
      " 1   region  278 non-null    object\n",
      " 2   pop     278 non-null    int64 \n",
      "dtypes: int64(2), object(1)\n",
      "memory usage: 6.6+ KB\n"
     ]
    }
   ],
   "source": [
    "df_pop.info()"
   ]
  },
  {
   "cell_type": "code",
   "execution_count": 6,
   "id": "9fce6d0b",
   "metadata": {},
   "outputs": [],
   "source": [
    "df_pop['code'] = df_pop['code'].astype(str)"
   ]
  },
  {
   "cell_type": "markdown",
   "id": "26fd3f01",
   "metadata": {},
   "source": [
    "#### 3. 단계 구분도 만들기"
   ]
  },
  {
   "cell_type": "raw",
   "id": "4610608e-1704-4305-b615-647c7f64a717",
   "metadata": {
    "eval": false
   },
   "source": [
    "pip install folium"
   ]
  },
  {
   "cell_type": "markdown",
   "id": "ed9bd46c",
   "metadata": {},
   "source": [
    "**(1) 배경 지도 만들기**"
   ]
  },
  {
   "cell_type": "code",
   "execution_count": null,
   "id": "86279091",
   "metadata": {
    "tags": [
     "remove_output"
    ]
   },
   "outputs": [],
   "source": [
    "import folium\n",
    "folium.Map(location = [35.95, 127.7],  # 지도 중심 좌표\n",
    "           zoom_start = 8)             # 확대 단계"
   ]
  },
  {
   "cell_type": "code",
   "execution_count": null,
   "id": "a56cadc2",
   "metadata": {
    "tags": [
     "remove_output"
    ]
   },
   "outputs": [],
   "source": [
    "map_sig = folium.Map(location = [35.95, 127.7],  # 지도 중심 좌표\n",
    "                     zoom_start = 8,             # 확대 단계\n",
    "                     tiles = 'cartodbpositron')  # 지도 종류\n",
    "map_sig"
   ]
  },
  {
   "cell_type": "markdown",
   "id": "a0f2d146",
   "metadata": {},
   "source": [
    "**(2) 단계 구분도 만들기**"
   ]
  },
  {
   "cell_type": "code",
   "execution_count": null,
   "id": "34e1e3ba",
   "metadata": {
    "tags": [
     "remove_output"
    ]
   },
   "outputs": [],
   "source": [
    "# 지도 데이터\n",
    "# 통계 데이터\n",
    "# df_pop 행정 구역 코드, 인구\n",
    "# geo 행정 구역 코드\n",
    "folium.Choropleth(geo_data = geo,\n",
    "                  data = df_pop,\n",
    "                  columns = ('code', 'pop'),\n",
    "                  key_on = 'feature.properties.SIG_CD') \\\n",
    "      .add_to(map_sig)\n",
    "\n",
    "map_sig"
   ]
  },
  {
   "cell_type": "markdown",
   "id": "ddbd327e",
   "metadata": {},
   "source": [
    "**(3) 계급 구간 정하기**"
   ]
  },
  {
   "cell_type": "code",
   "execution_count": 10,
   "id": "40031438",
   "metadata": {},
   "outputs": [
    {
     "data": {
      "text/plain": [
       "[8867.0, 50539.6, 142382.20000000004, 266978.6, 423107.20000000024, 13565450.0]"
      ]
     },
     "execution_count": 10,
     "metadata": {},
     "output_type": "execute_result"
    }
   ],
   "source": [
    "bins = list(df_pop['pop'].quantile([0, 0.2, 0.4, 0.6, 0.8, 1]))\n",
    "bins"
   ]
  },
  {
   "cell_type": "markdown",
   "id": "cfaf3895",
   "metadata": {},
   "source": [
    "**(4) 디자인 수정하기**"
   ]
  },
  {
   "cell_type": "code",
   "execution_count": 11,
   "id": "928d2c4b-0d1b-43d2-9cdf-c47924b832a3",
   "metadata": {
    "tags": [
     "remove_output"
    ]
   },
   "outputs": [],
   "source": [
    "## 배경 지도 만들기\n",
    "\n",
    "# 지도 중심 좌표\n",
    "# 확대 단계\n",
    "# 지도 종류\n",
    "map_sig = folium.Map(location = [35.95, 127.7],\n",
    "                     zoom_start = 8,\n",
    "                     tiles = 'cartodbpositron')"
   ]
  },
  {
   "cell_type": "code",
   "execution_count": null,
   "id": "dd0e39a5-5e0a-4442-bef5-f6752ac43cd9",
   "metadata": {
    "eval": false
   },
   "outputs": [],
   "source": [
    "## 단계 구분도 만들기\n",
    "\n",
    "# 지도 데이터\n",
    "# 통계 데이터\n",
    "# df_pop 행정 구역 코드, 인구\n",
    "# geo 행정 구역 코드\n",
    "# 컬러맵\n",
    "# 투명도\n",
    "# 경계선 투명도\n",
    "# 계급 구간 기준값\n",
    "# 배경 지도에 추가\n",
    "folium.Choropleth(geo_data = geo,\n",
    "                  data = df_pop,\n",
    "                  columns = ('code', 'pop'),\n",
    "                  key_on = 'feature.properties.SIG_CD',\n",
    "                  fill_color = 'YlGnBu',\n",
    "                  fill_opacity = 1,\n",
    "                  line_opacity = 0.5,\n",
    "                  bins = bins) \\\n",
    "      .add_to(map_sig)\n",
    "\n",
    "map_sig"
   ]
  },
  {
   "cell_type": "markdown",
   "id": "6d924db5",
   "metadata": {},
   "source": [
    "## 11-2 서울시 동별 외국인 인구 단계 구분도 만들기\n",
    "\n",
    "### 서울시 동별 외국인 인구 단계 구분도 만들기\n",
    "\n",
    "#### 1. 서울시 동 경계 지도 데이터 준비하기"
   ]
  },
  {
   "cell_type": "code",
   "execution_count": 13,
   "id": "cb44071f",
   "metadata": {
    "eval": false
   },
   "outputs": [],
   "source": [
    "import json\n",
    "geo_seoul = json.load(open('EMD_Seoul.geojson', encoding = 'UTF-8'))"
   ]
  },
  {
   "cell_type": "code",
   "execution_count": 14,
   "id": "db6d20af",
   "metadata": {
    "eval": false
   },
   "outputs": [
    {
     "data": {
      "text/plain": [
       "{'BASE_DATE': '20200630',\n",
       " 'ADM_DR_CD': '1101053',\n",
       " 'ADM_DR_NM': '사직동',\n",
       " 'OBJECTID': '1'}"
      ]
     },
     "execution_count": 14,
     "metadata": {},
     "output_type": "execute_result"
    }
   ],
   "source": [
    "# 행정 구역 코드 출력 \n",
    "geo_seoul['features'][0]['properties']"
   ]
  },
  {
   "cell_type": "code",
   "execution_count": 15,
   "id": "e756000b",
   "metadata": {
    "eval": false
   },
   "outputs": [],
   "source": [
    "# 위도, 경도 좌표 출력\n",
    "# geo_seoul['features'][0]['geometry']"
   ]
  },
  {
   "cell_type": "markdown",
   "id": "7aab8274",
   "metadata": {},
   "source": [
    "#### 2. 서울시 동별 외국인 인구 데이터 준비하기"
   ]
  },
  {
   "cell_type": "code",
   "execution_count": 16,
   "id": "5f8bbd35",
   "metadata": {
    "eval": false
   },
   "outputs": [
    {
     "data": {
      "text/html": [
       "<div>\n",
       "<style scoped>\n",
       "    .dataframe tbody tr th:only-of-type {\n",
       "        vertical-align: middle;\n",
       "    }\n",
       "\n",
       "    .dataframe tbody tr th {\n",
       "        vertical-align: top;\n",
       "    }\n",
       "\n",
       "    .dataframe thead th {\n",
       "        text-align: right;\n",
       "    }\n",
       "</style>\n",
       "<table border=\"1\" class=\"dataframe\">\n",
       "  <thead>\n",
       "    <tr style=\"text-align: right;\">\n",
       "      <th></th>\n",
       "      <th>code</th>\n",
       "      <th>region</th>\n",
       "      <th>pop</th>\n",
       "    </tr>\n",
       "  </thead>\n",
       "  <tbody>\n",
       "    <tr>\n",
       "      <th>0</th>\n",
       "      <td>1101053</td>\n",
       "      <td>사직동</td>\n",
       "      <td>418.0</td>\n",
       "    </tr>\n",
       "    <tr>\n",
       "      <th>1</th>\n",
       "      <td>1101054</td>\n",
       "      <td>삼청동</td>\n",
       "      <td>112.0</td>\n",
       "    </tr>\n",
       "    <tr>\n",
       "      <th>2</th>\n",
       "      <td>1101055</td>\n",
       "      <td>부암동</td>\n",
       "      <td>458.0</td>\n",
       "    </tr>\n",
       "    <tr>\n",
       "      <th>3</th>\n",
       "      <td>1101056</td>\n",
       "      <td>평창동</td>\n",
       "      <td>429.0</td>\n",
       "    </tr>\n",
       "    <tr>\n",
       "      <th>4</th>\n",
       "      <td>1101057</td>\n",
       "      <td>무악동</td>\n",
       "      <td>102.0</td>\n",
       "    </tr>\n",
       "  </tbody>\n",
       "</table>\n",
       "</div>"
      ],
      "text/plain": [
       "      code region    pop\n",
       "0  1101053    사직동  418.0\n",
       "1  1101054    삼청동  112.0\n",
       "2  1101055    부암동  458.0\n",
       "3  1101056    평창동  429.0\n",
       "4  1101057    무악동  102.0"
      ]
     },
     "execution_count": 16,
     "metadata": {},
     "output_type": "execute_result"
    }
   ],
   "source": [
    "foreigner = pd.read_csv('Foreigner_EMD_Seoul.csv')\n",
    "foreigner.head()"
   ]
  },
  {
   "cell_type": "code",
   "execution_count": 17,
   "id": "12088403",
   "metadata": {},
   "outputs": [
    {
     "name": "stdout",
     "output_type": "stream",
     "text": [
      "<class 'pandas.core.frame.DataFrame'>\n",
      "RangeIndex: 3490 entries, 0 to 3489\n",
      "Data columns (total 3 columns):\n",
      " #   Column  Non-Null Count  Dtype  \n",
      "---  ------  --------------  -----  \n",
      " 0   code    3490 non-null   int64  \n",
      " 1   region  3490 non-null   object \n",
      " 2   pop     3486 non-null   float64\n",
      "dtypes: float64(1), int64(1), object(1)\n",
      "memory usage: 81.9+ KB\n"
     ]
    }
   ],
   "source": [
    "foreigner.info()"
   ]
  },
  {
   "cell_type": "code",
   "execution_count": 18,
   "id": "6088130a",
   "metadata": {},
   "outputs": [],
   "source": [
    "foreigner['code'] = foreigner['code'].astype(str)"
   ]
  },
  {
   "cell_type": "markdown",
   "id": "b37314d3",
   "metadata": {},
   "source": [
    "#### 3. 단계 구분도 만들기"
   ]
  },
  {
   "cell_type": "code",
   "execution_count": 19,
   "id": "5b068105",
   "metadata": {},
   "outputs": [
    {
     "data": {
      "text/plain": [
       "[7.0, 98.0, 200.0, 280.0, 386.0, 529.5, 766.0, 1355.5, 26896.0]"
      ]
     },
     "execution_count": 19,
     "metadata": {},
     "output_type": "execute_result"
    }
   ],
   "source": [
    "bins = list(foreigner['pop'].quantile([0, 0.2, 0.4, 0.5, 0.6, 0.7, 0.8, 0.9, 1]))\n",
    "bins"
   ]
  },
  {
   "cell_type": "code",
   "execution_count": 20,
   "id": "5314c575-2e43-4fc4-b13c-340f7a97066e",
   "metadata": {
    "tags": [
     "remove_output"
    ]
   },
   "outputs": [],
   "source": [
    "## 배경 지도 만들기\n",
    "\n",
    "# 서울 좌표\n",
    "# 확대 단계\n",
    "# 지도 종류\n",
    "map_seoul = folium.Map(location = [37.56, 127],   \n",
    "                       zoom_start = 12,           \n",
    "                       tiles = 'cartodbpositron') "
   ]
  },
  {
   "cell_type": "code",
   "execution_count": null,
   "id": "31feb8e3-0d78-42e0-a358-47216cc5bbe1",
   "metadata": {
    "tags": [
     "remove_output"
    ]
   },
   "outputs": [],
   "source": [
    "## 단계구분도 만들기\n",
    "\n",
    "# 지도 데이터\n",
    "# 통계 데이터\n",
    "# foreigner 행정 구역 코드, 인구\n",
    "# geo_seoul 행정 구역 코드\n",
    "# 컬러맵\n",
    "# 결측치 색깔\n",
    "# 투명도\n",
    "# 경계선 투명도\n",
    "# 계급 구간 기준값\n",
    "# 배경 지도에 추가\n",
    "folium.Choropleth(geo_data = geo_seoul,\n",
    "                  data = foreigner,\n",
    "                  columns = ('code', 'pop'),\n",
    "                  key_on = 'feature.properties.ADM_DR_CD',\n",
    "                  fill_color = 'Blues',\n",
    "                  nan_fill_color = 'White',\n",
    "                  fill_opacity = 1,\n",
    "                  line_opacity = 0.5,\n",
    "                  bins = bins) \\\n",
    "      .add_to(map_seoul)\n",
    "\n",
    "map_seoul"
   ]
  },
  {
   "cell_type": "markdown",
   "id": "dc103d2c",
   "metadata": {},
   "source": [
    "#### 4. 구 경계선 추가하기"
   ]
  },
  {
   "cell_type": "code",
   "execution_count": 22,
   "id": "8a7120e2",
   "metadata": {
    "eval": false
   },
   "outputs": [],
   "source": [
    "geo_seoul_sig = json.load(open('SIG_Seoul.geojson', encoding = 'UTF-8'))"
   ]
  },
  {
   "cell_type": "code",
   "execution_count": null,
   "id": "b0750945",
   "metadata": {
    "tags": [
     "remove_output"
    ]
   },
   "outputs": [],
   "source": [
    "## 서울 구 라인 추가\n",
    "\n",
    "# 지도 데이터\n",
    "# 투명도\n",
    "# 선 두께\n",
    "# 지도에 추가\n",
    "folium.Choropleth(geo_data = geo_seoul_sig,\n",
    "                  fill_opacity = 0,\n",
    "                  line_weight = 4) \\\n",
    "      .add_to(map_seoul)\n",
    "\n",
    "map_seoul"
   ]
  },
  {
   "cell_type": "markdown",
   "id": "41f52ea0",
   "metadata": {},
   "source": [
    "-----------------------------------------------------------------------\n",
    "\n",
    "### (알아 두면 좋아요) `folium` 활용하기\n",
    "\n",
    "**HTML 파일로 저장하기**"
   ]
  },
  {
   "cell_type": "code",
   "execution_count": 24,
   "id": "bcb6fac6",
   "metadata": {
    "eval": false
   },
   "outputs": [],
   "source": [
    "map_seoul.save('map_seoul.html')"
   ]
  },
  {
   "cell_type": "markdown",
   "id": "a99e91c4",
   "metadata": {},
   "source": [
    "**웹 브라우저에서 html 파일 열기**"
   ]
  },
  {
   "cell_type": "code",
   "execution_count": 25,
   "id": "85276b95",
   "metadata": {
    "eval": false
   },
   "outputs": [],
   "source": [
    "import webbrowser\n",
    "# webbrowser.open_new('map_seoul.html')"
   ]
  }
 ],
 "metadata": {
  "jupytext": {
   "cell_metadata_filter": "echo,eval,name,tags,-all",
   "notebook_metadata_filter": "-all"
  },
  "kernelspec": {
   "display_name": "Python 3 (ipykernel)",
   "language": "python",
   "name": "python3"
  },
  "language_info": {
   "codemirror_mode": {
    "name": "ipython",
    "version": 3
   },
   "file_extension": ".py",
   "mimetype": "text/x-python",
   "name": "python",
   "nbconvert_exporter": "python",
   "pygments_lexer": "ipython3",
   "version": "3.9.11"
  }
 },
 "nbformat": 4,
 "nbformat_minor": 5
}
