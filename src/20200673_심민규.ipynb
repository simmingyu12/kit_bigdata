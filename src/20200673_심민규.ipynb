{
 "cells": [
  {
   "cell_type": "markdown",
   "metadata": {},
   "source": [
    "1-1.빅데이터의 3v에 대해 설명하시오\n",
    "\n",
    "3v를 특징으로 하는 데이터\n",
    "3v\n",
    "거대한 규모:방대한 양의 데이터(테라,테라바이트 이상)\n",
    "빠른 속도:실시간 생성,빠른 속도로 데이터를 처리 / 분석\n",
    "높은 다양성: 정형(DBMS)및 비정형(영상, 음성, 텍스트 SNS등)\n",
    "\n",
    "기존의 데이터 베이스 관리 도구, 관리 시스템의 능력을 넘어 정형, 비정형 데이터세트,이를 포함한 데이터로부터 분석하여 의미 있는 가치를 추출하고 결과를 분석하는 기술"
   ]
  },
  {
   "cell_type": "markdown",
   "metadata": {},
   "source": [
    "1-2 정형데이터와 비정형 데이터에 대해 설명하시오\n",
    "\n",
    "정형 데이터란 일정한 형식이나 규칙에 맞게 저장된 데이터, 정형 데이터 예: 스프레드시트,관계형 데이터 베이스 CSV 등이다\n",
    "\n",
    "비정형 데이터란 정해진 규칙이 없어서 값의 의미를 쉽게 파악하기 힘든 데이터들로 SNS,텍스트, 음성, 영상 등이 포함된다"
   ]
  },
  {
   "cell_type": "markdown",
   "metadata": {},
   "source": [
    "1-3 빅데이터 처리 과정에 대해 설명하시오\n",
    "\n",
    "데이터 소스 - 수집 - 저장 - 처리 - 분석 - 표현순으로 처리하며\n",
    "데이터소스에는 내부 데이터,외부 데이터,미디어가 있고 수집에는 수동,자동이 있고, 저장에는 정형과 비정혛, 데이터 등급이 있고 처리에는 일과 처리, 실시간 & 배치 분산 병렬 처리가 있고 분석에는 전처리와 분석 방법을 보여주어 마지막 표현으로 처리되는 것이다."
   ]
  },
  {
   "cell_type": "markdown",
   "metadata": {},
   "source": [
    "1-4 빅데이터의 활용 사레를 2가지 이상 설명하시오\n",
    "\n",
    "1. 당근마켓\n",
    "- 게시한 사진의 상품 카테고리 자동 분류, 맞춤형 콘텐츠 추천해준다\n",
    "2. 넷플릭스\n",
    "- 사용자의 영화 관람 목록에 기초해 새로운 영화를 추천해주는 시스템 개발\n",
    "3.신용카드사\n",
    "-빅데이터 분석을 통해 파악한 고객 니즈와 스마트폰으로부터 수집한 정보를 결합하는 CLO(Card Linked Offer)서비스를 마케팅에 활용"
   ]
  },
  {
   "cell_type": "code",
   "execution_count": 18,
   "metadata": {},
   "outputs": [
    {
     "name": "stdout",
     "output_type": "stream",
     "text": [
      "   index           id grade  admin\n",
      "0      0  applecarrot   1st   True\n",
      "1      1    sweetsoju   1st  False\n",
      "2      2      chimaek   3rd  False\n",
      "3      3      galbiya   3rd   True\n",
      "4      4   kimchijeon   2nd  False\n"
     ]
    }
   ],
   "source": [
    "# 2-1 다음과 같은 표의 내용을 데이터 프레임으로 만들고 출력하시오\n",
    "\n",
    "import pandas as pd\n",
    "\n",
    "df = pd.DataFrame({\n",
    "    'index': [0, 1, 2, 3, 4],\n",
    "    'id': ['applecarrot', 'sweetsoju', 'chimaek', 'galbiya', 'kimchijeon'],  \n",
    "    'grade': ['1st', '1st', '3rd', '3rd', '2nd'], \n",
    "    'admin': [True, False, False, True, False]\n",
    "})\n",
    "\n",
    "print(df)\n",
    "\n",
    "\n",
    "\n",
    "\n"
   ]
  },
  {
   "cell_type": "code",
   "execution_count": 15,
   "metadata": {},
   "outputs": [
    {
     "name": "stdout",
     "output_type": "stream",
     "text": [
      "AiredDate\n",
      "2020    8.700\n",
      "2021    8.800\n",
      "2022    8.425\n",
      "Name: Rating, dtype: float64\n"
     ]
    }
   ],
   "source": [
    "# 2-2 kdrama_test.xlxs 데이터에서 2020년 이후로 넷플릭스에서 단독으로 출시된 드라마들의 연도별 편균 평점을 구하고 출력하시오\n",
    "\n",
    "import pandas as pd\n",
    "\n",
    "\n",
    "df = pd.read_excel('kdrama_test.xlsx')\n",
    "\n",
    "#  열을 날짜 형식으로 변환\n",
    "df['AiredDate'] = pd.to_datetime(df['AiredDate'], errors='coerce')  # 수정된 부분\n",
    "\n",
    "# 2020년 이후, 넷플릭스에서 단독 출시된 드라마들을 필터링\n",
    "filtered_df = df[(df['AiredDate'].dt.year >= 2020) & (df['OriginalNetwork'] == 'Netflix')]  # 수정된 부분\n",
    "\n",
    "# 연도별 평균 평점을 계산합\n",
    "average_ratings = filtered_df.groupby(filtered_df['AiredDate'].dt.year)['Rating'].mean()  # 수정된 부분\n",
    "\n",
    "# 결과를 출력합니다.\n",
    "print(average_ratings)\n",
    "\n"
   ]
  },
  {
   "cell_type": "code",
   "execution_count": 14,
   "metadata": {},
   "outputs": [
    {
     "name": "stdout",
     "output_type": "stream",
     "text": [
      "ContentRating\n",
      "15+ - Teens 15 or older    30\n",
      "13+ - Teens 13 or older     2\n",
      "Name: count, dtype: int64\n"
     ]
    }
   ],
   "source": [
    "# 2-3kdrama_test.xlxs 데이터에서 에피소드가 30개 이상인 드라마들의 관람 연령별 드라마 개수를 구하고 출력하시오\n",
    "import pandas as pd\n",
    "\n",
    "df = pd.read_excel('kdrama_test.xlsx')\n",
    "\n",
    "# 에피소드가 30개 이상인 드라마들을 필터링\n",
    "filtered_df = df[df['NumberOfEpisodes'] >= 30]\n",
    "\n",
    "# 관람 연령별 드라마 개수를 구합니다.\n",
    "age_rating_counts = filtered_df['ContentRating'].value_counts()\n",
    "\n",
    "\n",
    "print(age_rating_counts)\n",
    "\n"
   ]
  },
  {
   "cell_type": "code",
   "execution_count": 11,
   "metadata": {},
   "outputs": [
    {
     "name": "stdout",
     "output_type": "stream",
     "text": [
      "각 변수의 결측값 개수:\n",
      "Name                   0\n",
      "AiredDate              0\n",
      "YearOfRelease          0\n",
      "OriginalNetwork        0\n",
      "AiredOn                0\n",
      "NumberOfEpisodes       0\n",
      "Duration               0\n",
      "ContentRating          5\n",
      "Rating                 0\n",
      "Synopsis               0\n",
      "Genre                  0\n",
      "Tags                   0\n",
      "Director               1\n",
      "Screenwriter           1\n",
      "Cast                   0\n",
      "ProductionCompanies    2\n",
      "Rank                   0\n",
      "dtype: int64\n",
      "\n",
      "결측값이 제거된 데이터프레임:\n",
      "                       Name                    AiredDate  YearOfRelease  \\\n",
      "0            Move to Heaven          2021-05-14 00:00:00           2021   \n",
      "1            Flower of Evil  Jul 29, 2020 - Sep 23, 2020           2020   \n",
      "2         Hospital Playlist  Mar 12, 2020 - May 28, 2020           2020   \n",
      "3       Hospital Playlist 2  Jun 17, 2021 - Sep 16, 2021           2021   \n",
      "4                 My Mister  Mar 21, 2018 - May 17, 2018           2018   \n",
      "..                      ...                          ...            ...   \n",
      "245    Live Up to Your Name   Aug 12, 2017 - Oct 1, 2017           2017   \n",
      "246    Queen for Seven Days   May 31, 2017 - Aug 3, 2017           2017   \n",
      "247                  Memory   Mar 18, 2016 - May 7, 2016           2016   \n",
      "248        A Korean Odyssey   Dec 23, 2017 - Mar 4, 2018           2017   \n",
      "249  Voice 4: Judgment Hour  Jun 18, 2021 - Jul 31, 2021           2021   \n",
      "\n",
      "    OriginalNetwork               AiredOn  NumberOfEpisodes       Duration  \\\n",
      "0           Netflix                Friday                10        52 min.   \n",
      "1               tvN   Wednesday, Thursday                16  1 hr. 10 min.   \n",
      "2    Netflix,  tvN               Thursday                12  1 hr. 30 min.   \n",
      "3    Netflix,  tvN               Thursday                12  1 hr. 40 min.   \n",
      "4               tvN   Wednesday, Thursday                16  1 hr. 17 min.   \n",
      "..              ...                   ...               ...            ...   \n",
      "245             tvN      Saturday, Sunday                16  1 hr. 10 min.   \n",
      "246            KBS2   Wednesday, Thursday                20        60 min.   \n",
      "247             tvN      Friday, Saturday                16   1 hr. 5 min.   \n",
      "248    Netflix, tvN      Saturday, Sunday                20  1 hr. 20 min.   \n",
      "249             tvN      Friday, Saturday                14   1 hr. 3 min.   \n",
      "\n",
      "                             ContentRating  Rating  \\\n",
      "0    18+ Restricted (violence & profanity)     9.2   \n",
      "1                  15+ - Teens 15 or older     9.1   \n",
      "2                  15+ - Teens 15 or older     9.1   \n",
      "3                  15+ - Teens 15 or older     9.1   \n",
      "4                  15+ - Teens 15 or older     9.1   \n",
      "..                                     ...     ...   \n",
      "245                15+ - Teens 15 or older     8.3   \n",
      "246                15+ - Teens 15 or older     8.3   \n",
      "247                15+ - Teens 15 or older     8.3   \n",
      "248                15+ - Teens 15 or older     8.3   \n",
      "249                15+ - Teens 15 or older     8.3   \n",
      "\n",
      "                                              Synopsis  \\\n",
      "0    Geu Roo is a young autistic man. He works for ...   \n",
      "1    Although Baek Hee Sung is hiding a dark secret...   \n",
      "2    The stories of people going through their days...   \n",
      "3    Everyday is extraordinary for five doctors and...   \n",
      "4    Park Dong Hoon is a middle-aged engineer who i...   \n",
      "..                                                 ...   \n",
      "245  Heo Im, who is born in a concubine family in t...   \n",
      "246  This drama is about the love story between Kin...   \n",
      "247  Park Tae Suk is a lawyer who finds out that he...   \n",
      "248  In 2017, Son Oh Gong and Ma Wang are in confli...   \n",
      "249  A serial killer with an enhanced hearing abili...   \n",
      "\n",
      "                                         Genre  \\\n",
      "0                       Life,  Drama,  Family    \n",
      "1      Thriller,  Romance,  Crime,  Melodrama    \n",
      "2       Friendship,  Romance,  Life,  Medical    \n",
      "3       Friendship,  Romance,  Life,  Medical    \n",
      "4       Psychological,  Life,  Drama,  Family    \n",
      "..                                         ...   \n",
      "245      Historical, Romance, Medical, Fantasy   \n",
      "246  Historical, Romance, Melodrama, Political   \n",
      "247                  Law, Romance, Life, Drama   \n",
      "248           Horror, Comedy, Romance, Fantasy   \n",
      "249           Action, Thriller, Mystery, Crime   \n",
      "\n",
      "                                                  Tags  \\\n",
      "0    Autism, Uncle-Nephew Relationship, Death, Sava...   \n",
      "1    Married Couple, Deception, Suspense, Family Se...   \n",
      "2    Strong Friendship, Multiple Mains, Best Friend...   \n",
      "3    Workplace, Strong Friendship, Best Friends, Mu...   \n",
      "4    Age Gap, Nice Male Lead, Strong Female Lead, H...   \n",
      "..                                                 ...   \n",
      "245  Time Travel, Joseon Dynasty, Acupuncture, Stro...   \n",
      "246  Joseon Dynasty, Sibling Rivalry, Lying, Reveng...   \n",
      "247  Alzheimer's Disease, Teamwork, Bromance, Mothe...   \n",
      "248  Ghost-seeing Female Lead, Special Power, Super...   \n",
      "249  Investigation, Suspense, Animal Abuse, Psychol...   \n",
      "\n",
      "                                         Director                Screenwriter  \\\n",
      "0                                     Kim Sung Ho                Yoon Ji Ryun   \n",
      "1                      Kim Chul Gyu, Yoon Jong Ho                Yoo Jung Hee   \n",
      "2                                     Shin Won Ho                Lee Woo Jung   \n",
      "3                                     Shin Won Ho                Lee Woo Jung   \n",
      "4                       Kim Won Suk, Kim Sang Woo              Park Hae Young   \n",
      "..                                            ...                         ...   \n",
      "245                                Hong Jong Chan                 Kim Eun Hee   \n",
      "246                                  Lee Jung Sub              Choi Jin Young   \n",
      "247                                Park Chan Hong                  Kim Ji Woo   \n",
      "248  Park Hong Kyun, Kim Jung Hyun, Kim Byung Soo  Hong Jung Eun, Hong Mi Ran   \n",
      "249                  Shin Yong Hwi, Yoon Ra Young                  Ma Jin Won   \n",
      "\n",
      "                                                  Cast  \\\n",
      "0    Lee Je Hoon, Tang Jun Sang, Hong Seung Hee, Ju...   \n",
      "1    Lee Joon Gi, Moon Chae Won, Jang Hee Jin, Seo ...   \n",
      "2    Jo Jung Suk, Yoo Yeon Seok, Jung Kyung Ho, Kim...   \n",
      "3    Jo Jung Suk, Yoo Yeon Seok, Jung Kyung Ho, Kim...   \n",
      "4    Lee Sun Kyun, IU, Park Ho San, Song Sae Byuk, ...   \n",
      "..                                                 ...   \n",
      "245  Kim Nam Gil, Kim Ah Joong, Yoo Min Kyu, Moon G...   \n",
      "246  Park Min Young, Yeon Woo Jin, Lee Dong Gun, Ja...   \n",
      "247  Lee Sung Min, Kim Jee Soo, Park Jin Hee, Lee J...   \n",
      "248  Lee Seung Gi, Cha Seung Won, Oh Yeon Seo, Lee ...   \n",
      "249  Lee  Ha Na, Song Seung Heon, Son Eun Seo, Kang...   \n",
      "\n",
      "                       ProductionCompanies  Rank  \n",
      "0     Page One Film, Number Three Pictures    #1  \n",
      "1                            Monster Union    #2  \n",
      "2                    Egg Is Coming, CJ ENM    #3  \n",
      "3                    Egg Is Coming, CJ ENM    #4  \n",
      "4                         Chorokbaem Media    #5  \n",
      "..                                     ...   ...  \n",
      "245                  Bon Factory Worldwide  #246  \n",
      "246  Monster Union, OH!BROTHERS Production  #247  \n",
      "247                                MI Inc.  #248  \n",
      "248                            JS Pictures  #249  \n",
      "249                 Story & Pictures Media  #250  \n",
      "\n",
      "[242 rows x 17 columns]\n"
     ]
    }
   ],
   "source": [
    "# 2-4kdrama_test.xlxs 데이터의 각 변수에 몇 개의 결측지가 있는지 확인하고,결측지가 존재하는 행을 모두 제거한 데이터 프레임을 만들어 출력하시오\n",
    "import pandas as pd\n",
    "\n",
    "\n",
    "df = pd.read_excel('kdrama_test.xlsx')\n",
    "\n",
    "# 각 변수에 있는 결측값의 개수 확인\n",
    "missing_values = df.isnull().sum()\n",
    "\n",
    "\n",
    "df_cleaned = df.dropna()\n",
    "\n",
    "# 결과를 출력\n",
    "print(\"각 변수의 결측값 개수:\")\n",
    "print(missing_values)\n",
    "print(\"\\n결측값이 제거된 데이터프레임:\")\n",
    "print(df_cleaned)\n"
   ]
  },
  {
   "cell_type": "code",
   "execution_count": 12,
   "metadata": {},
   "outputs": [
    {
     "name": "stdout",
     "output_type": "stream",
     "text": [
      "ContentRating\n",
      "15+ - Teens 15 or older    30\n",
      "13+ - Teens 13 or older     2\n",
      "Name: count, dtype: int64\n"
     ]
    },
    {
     "name": "stderr",
     "output_type": "stream",
     "text": [
      "C:\\Users\\User\\AppData\\Local\\Packages\\PythonSoftwareFoundation.Python.3.11_qbz5n2kfra8p0\\LocalCache\\local-packages\\Python311\\site-packages\\IPython\\core\\pylabtools.py:152: UserWarning: Glyph 46300 (\\N{HANGUL SYLLABLE DEU}) missing from current font.\n",
      "  fig.canvas.print_figure(bytes_io, **kw)\n",
      "C:\\Users\\User\\AppData\\Local\\Packages\\PythonSoftwareFoundation.Python.3.11_qbz5n2kfra8p0\\LocalCache\\local-packages\\Python311\\site-packages\\IPython\\core\\pylabtools.py:152: UserWarning: Glyph 46972 (\\N{HANGUL SYLLABLE RA}) missing from current font.\n",
      "  fig.canvas.print_figure(bytes_io, **kw)\n",
      "C:\\Users\\User\\AppData\\Local\\Packages\\PythonSoftwareFoundation.Python.3.11_qbz5n2kfra8p0\\LocalCache\\local-packages\\Python311\\site-packages\\IPython\\core\\pylabtools.py:152: UserWarning: Glyph 47560 (\\N{HANGUL SYLLABLE MA}) missing from current font.\n",
      "  fig.canvas.print_figure(bytes_io, **kw)\n",
      "C:\\Users\\User\\AppData\\Local\\Packages\\PythonSoftwareFoundation.Python.3.11_qbz5n2kfra8p0\\LocalCache\\local-packages\\Python311\\site-packages\\IPython\\core\\pylabtools.py:152: UserWarning: Glyph 44060 (\\N{HANGUL SYLLABLE GAE}) missing from current font.\n",
      "  fig.canvas.print_figure(bytes_io, **kw)\n",
      "C:\\Users\\User\\AppData\\Local\\Packages\\PythonSoftwareFoundation.Python.3.11_qbz5n2kfra8p0\\LocalCache\\local-packages\\Python311\\site-packages\\IPython\\core\\pylabtools.py:152: UserWarning: Glyph 49688 (\\N{HANGUL SYLLABLE SU}) missing from current font.\n",
      "  fig.canvas.print_figure(bytes_io, **kw)\n",
      "C:\\Users\\User\\AppData\\Local\\Packages\\PythonSoftwareFoundation.Python.3.11_qbz5n2kfra8p0\\LocalCache\\local-packages\\Python311\\site-packages\\IPython\\core\\pylabtools.py:152: UserWarning: Glyph 44288 (\\N{HANGUL SYLLABLE GWAN}) missing from current font.\n",
      "  fig.canvas.print_figure(bytes_io, **kw)\n",
      "C:\\Users\\User\\AppData\\Local\\Packages\\PythonSoftwareFoundation.Python.3.11_qbz5n2kfra8p0\\LocalCache\\local-packages\\Python311\\site-packages\\IPython\\core\\pylabtools.py:152: UserWarning: Glyph 46988 (\\N{HANGUL SYLLABLE RAM}) missing from current font.\n",
      "  fig.canvas.print_figure(bytes_io, **kw)\n",
      "C:\\Users\\User\\AppData\\Local\\Packages\\PythonSoftwareFoundation.Python.3.11_qbz5n2kfra8p0\\LocalCache\\local-packages\\Python311\\site-packages\\IPython\\core\\pylabtools.py:152: UserWarning: Glyph 50672 (\\N{HANGUL SYLLABLE YEON}) missing from current font.\n",
      "  fig.canvas.print_figure(bytes_io, **kw)\n",
      "C:\\Users\\User\\AppData\\Local\\Packages\\PythonSoftwareFoundation.Python.3.11_qbz5n2kfra8p0\\LocalCache\\local-packages\\Python311\\site-packages\\IPython\\core\\pylabtools.py:152: UserWarning: Glyph 47161 (\\N{HANGUL SYLLABLE RYEONG}) missing from current font.\n",
      "  fig.canvas.print_figure(bytes_io, **kw)\n",
      "C:\\Users\\User\\AppData\\Local\\Packages\\PythonSoftwareFoundation.Python.3.11_qbz5n2kfra8p0\\LocalCache\\local-packages\\Python311\\site-packages\\IPython\\core\\pylabtools.py:152: UserWarning: Glyph 48324 (\\N{HANGUL SYLLABLE BYEOL}) missing from current font.\n",
      "  fig.canvas.print_figure(bytes_io, **kw)\n"
     ]
    },
    {
     "data": {
      "image/png": "[encoded data removed]",
      "text/plain": [
       "<Figure size 640x480 with 1 Axes>"
      ]
     },
     "metadata": {},
     "output_type": "display_data"
    }
   ],
   "source": [
    "# 보너스 문제 kdrama_test.xlsx 데이터 혹은 인터넷에서 구할 수 있는 다른 데이터셋을 이용해 자유롭게 의미 있는 결과를 추출하고 설명하시오\n",
    "\n",
    "import pandas as pd\n",
    "import matplotlib.pyplot as plt\n",
    "\n",
    "\n",
    "df = pd.read_excel('kdrama_test.xlsx')\n",
    "\n",
    "# 'NumberOfEpisodes'가 30개 이상인 드라마들을 필터링\n",
    "filtered_df = df[df['NumberOfEpisodes'] >= 30]\n",
    "\n",
    "# 관람 연령별 드라마 개수를 구함\n",
    "age_rating_counts = filtered_df['ContentRating'].value_counts()\n",
    "\n",
    "\n",
    "print(age_rating_counts)\n",
    "\n",
    "# 시각화\n",
    "age_rating_counts.plot(kind='bar', rot=45)\n",
    "plt.xlabel('관람 연령')\n",
    "plt.ylabel('드라마 개수')\n",
    "plt.title('관람 연령별 드라마 개수')\n",
    "plt.show()\n",
    "\n"
   ]
  }
 ],
 "metadata": {
  "kernelspec": {
   "display_name": "Python 3",
   "language": "python",
   "name": "python3"
  },
  "language_info": {
   "codemirror_mode": {
    "name": "ipython",
    "version": 3
   },
   "file_extension": ".py",
   "mimetype": "text/x-python",
   "name": "python",
   "nbconvert_exporter": "python",
   "pygments_lexer": "ipython3",
   "version": "3.11.6"
  }
 },
 "nbformat": 4,
 "nbformat_minor": 2
}
